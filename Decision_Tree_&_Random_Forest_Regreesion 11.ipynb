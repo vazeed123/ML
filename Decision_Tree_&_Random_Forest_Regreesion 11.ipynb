{
  "nbformat": 4,
  "nbformat_minor": 0,
  "metadata": {
    "colab": {
      "private_outputs": true,
      "provenance": []
    },
    "kernelspec": {
      "name": "python3",
      "display_name": "Python 3"
    },
    "language_info": {
      "name": "python"
    }
  },
  "cells": [
    {
      "cell_type": "code",
      "execution_count": null,
      "metadata": {
        "id": "SFtvWzn26xuh"
      },
      "outputs": [],
      "source": [
        "# Importing necessary libraries\n",
        "import pandas as pd\n",
        "from sklearn.model_selection import train_test_split\n",
        "from sklearn.tree import DecisionTreeRegressor, export_graphviz\n",
        "import graphviz\n",
        "\n",
        "# Load the dataset\n",
        "data = pd.read_csv('Advertising.csv')\n",
        "\n",
        "# Assuming the dataset contains columns: 'TV', 'Radio', 'Newspaper', and 'Sales'\n",
        "X = data[['TV', 'Radio', 'Newspaper']]  # Features\n",
        "y = data['Sales']  # Target variable\n",
        "\n",
        "# Split the dataset into training and testing sets\n",
        "X_train, X_test, y_train, y_test = train_test_split(X, y, test_size=0.2, random_state=42)\n",
        "\n",
        "# # Initialize the decision tree regressor\n",
        "# regressor = DecisionTreeRegressor()\n",
        "\n",
        "# # Train the model\n",
        "# regressor.fit(X_train, y_train)\n",
        "\n",
        "# # Visualize the decision tree\n",
        "# dot_data = export_graphviz(regressor, out_file=None,\n",
        "#                            feature_names=X.columns,\n",
        "#                            filled=True, rounded=True,\n",
        "#                            special_characters=True)\n",
        "# graph = graphviz.Source(dot_data)\n",
        "# graph.render(\"advertisement_decision_tree\")\n",
        "\n",
        "# # Display the decision tree\n",
        "# graph\n"
      ]
    },
    {
      "cell_type": "code",
      "source": [],
      "metadata": {
        "id": "hCnGIx3M6lQr"
      },
      "execution_count": null,
      "outputs": []
    },
    {
      "cell_type": "code",
      "source": [
        "regressor = DecisionTreeRegressor()\n",
        "# Initialize the decision tree regressor\n",
        "regressor = DecisionTreeRegressor()\n",
        "\n",
        "# Train the model\n",
        "regressor.fit(X_train, y_train)"
      ],
      "metadata": {
        "id": "njHgcEa7zcDN"
      },
      "execution_count": null,
      "outputs": []
    },
    {
      "cell_type": "code",
      "source": [
        "regressor.feature_importances_"
      ],
      "metadata": {
        "id": "mZT3dJL2zr-6"
      },
      "execution_count": null,
      "outputs": []
    },
    {
      "cell_type": "code",
      "source": [
        "# Initialize the decision tree regressor\n",
        "regressor = DecisionTreeRegressor()\n",
        "\n",
        "# Train the model\n",
        "regressor.fit(X_train, y_train)\n",
        "\n",
        "# Visualize the decision tree\n",
        "dot_data = export_graphviz(regressor, out_file=None,\n",
        "                           feature_names=X.columns,\n",
        "                           filled=True, rounded=True,\n",
        "                           special_characters=True)\n",
        "graph = graphviz.Source(dot_data)\n",
        "graph.render(\"advertisement_decision_tree\")\n",
        "\n",
        "# Display the decision tree\n",
        "graph\n"
      ],
      "metadata": {
        "id": "V5I2trCvzMCA"
      },
      "execution_count": null,
      "outputs": []
    },
    {
      "cell_type": "code",
      "source": [
        "!pip install shap\n"
      ],
      "metadata": {
        "id": "ny5-JtiB8wy8"
      },
      "execution_count": null,
      "outputs": []
    },
    {
      "cell_type": "code",
      "source": [
        "# Choose an instance from the test set\n",
        "instance_index = 0  # Choose any index from the test set\n",
        "instance = X_test.iloc[[instance_index]]\n",
        "\n",
        "print(instance)"
      ],
      "metadata": {
        "id": "omw8e1zU0MoR"
      },
      "execution_count": null,
      "outputs": []
    },
    {
      "cell_type": "code",
      "source": [],
      "metadata": {
        "id": "p8egS3xO1WQ7"
      },
      "execution_count": null,
      "outputs": []
    },
    {
      "cell_type": "code",
      "source": [
        "import shap\n",
        "\n",
        "# Choose an instance from the test set\n",
        "instance_index = 0  # Choose any index from the test set\n",
        "instance = X_test.iloc[[instance_index]]\n",
        "\n",
        "# Use the trained model to predict sales for the chosen instance\n",
        "predicted_sales = regressor.predict(instance)\n",
        "\n",
        "# Use SHAP to explain the prediction\n",
        "explainer = shap.Explainer(regressor, X_train)\n",
        "shap_values = explainer.shap_values(instance)\n",
        "\n",
        "# Visualize the SHAP values\n",
        "shap.initjs()\n",
        "shap.force_plot(explainer.expected_value, shap_values, instance)\n"
      ],
      "metadata": {
        "id": "4N3t4dPl8rXW"
      },
      "execution_count": null,
      "outputs": []
    },
    {
      "cell_type": "code",
      "source": [
        "import numpy as np\n",
        "\n",
        "# Convert input_data to numpy array\n",
        "input_data = np.array([[100, 20, 30]])  # Example input: TV = 100, Radio = 20, Newspaper = 30\n",
        "\n",
        "# Use the trained model to predict the sales price\n",
        "predicted_sales_price = regressor.predict(input_data)\n",
        "\n",
        "# Use SHAP to explain the prediction\n",
        "explainer = shap.Explainer(regressor, X_train)\n",
        "shap_values = explainer.shap_values(input_data)\n",
        "\n",
        "# Visualize the SHAP values\n",
        "shap.initjs()\n",
        "shap.force_plot(explainer.expected_value, shap_values[0], input_data)\n",
        "\n"
      ],
      "metadata": {
        "id": "rpX3uYi49YK_"
      },
      "execution_count": null,
      "outputs": []
    },
    {
      "cell_type": "code",
      "source": [
        "# Importing necessary libraries\n",
        "import pandas as pd\n",
        "from sklearn.model_selection import train_test_split\n",
        "from sklearn.tree import DecisionTreeRegressor, export_graphviz\n",
        "import graphviz\n",
        "\n",
        "# Load the dataset\n",
        "data = pd.read_csv('advertising.csv')\n",
        "\n",
        "# Assuming the dataset contains columns: 'TV', 'Radio', 'Newspaper', and 'Sales'\n",
        "X = data[['TV', 'Radio', 'Newspaper']]  # Features\n",
        "y = data['Sales']  # Target variable\n",
        "\n",
        "# Split the dataset into training and testing sets\n",
        "X_train, X_test, y_train, y_test = train_test_split(X, y, test_size=0.2, random_state=42)\n",
        "\n",
        "# Initialize the decision tree regressor\n",
        "regressor = DecisionTreeRegressor()\n",
        "\n",
        "# Train the model\n",
        "regressor.fit(X_train, y_train)\n",
        "\n",
        "# Visualize the decision tree with mean values highlighted\n",
        "def highlight_mean(value):\n",
        "    if value is not None and value > y_train.mean():\n",
        "        return 'lightblue'\n",
        "    else:\n",
        "        return 'lightcoral'\n",
        "\n",
        "# Generate the dot data without specifying rounded=True\n",
        "dot_data = export_graphviz(regressor, out_file=None,\n",
        "                           feature_names=X.columns,\n",
        "                           filled=True,\n",
        "                           special_characters=True,\n",
        "                           proportion=True,\n",
        "                           impurity=False,\n",
        "                           precision=2,\n",
        "                           class_names=['Sales'],\n",
        "                           leaves_parallel=False,\n",
        "                           rotate=False)\n",
        "\n",
        "# Manually add rounded nodes in the dot data\n",
        "dot_data = dot_data.replace('shape=box', 'shape=box, style=\"rounded,filled\"')\n",
        "\n",
        "# Visualize the decision tree\n",
        "graph = graphviz.Source(dot_data)\n",
        "graph.render(\"advertisement_decision_tree\")\n",
        "\n",
        "# Display the decision tree\n",
        "graph\n"
      ],
      "metadata": {
        "id": "jo9KdLzH--0r"
      },
      "execution_count": null,
      "outputs": []
    },
    {
      "cell_type": "code",
      "source": [
        "# Load the dataset\n",
        "data = pd.read_csv('salary_data.csv')\n",
        "\n",
        "# Assuming the dataset contains columns: 'TV', 'Radio', 'Newspaper', and 'Sales'\n",
        "X = data[['YearsExperience']]  # Features\n",
        "y = data['Salary']  # Target variable\n",
        "\n",
        "# Split the dataset into training and testing sets\n",
        "X_train, X_test, y_train, y_test = train_test_split(X, y, test_size=0.2, random_state=42)\n",
        "\n",
        "# Initialize the decision tree regressor\n",
        "regressor = DecisionTreeRegressor()\n",
        "\n",
        "# Train the model\n",
        "regressor.fit(X_train, y_train)\n",
        "\n",
        "# Visualize the decision tree with mean values highlighted\n",
        "def highlight_mean(value):\n",
        "    if value is not None and value > y_train.mean():\n",
        "        return 'lightblue'\n",
        "    else:\n",
        "        return 'lightcoral'\n",
        "\n",
        "# Generate the dot data without specifying rounded=True\n",
        "dot_data = export_graphviz(regressor, out_file=None,\n",
        "                           feature_names=X.columns,\n",
        "                           filled=True,\n",
        "                           special_characters=True,\n",
        "                           proportion=True,\n",
        "                           impurity=False,\n",
        "                           precision=2,\n",
        "                           class_names=['Sales'],\n",
        "                           leaves_parallel=False,\n",
        "                           rotate=False)\n",
        "\n",
        "# Manually add rounded nodes in the dot data\n",
        "dot_data = dot_data.replace('shape=box', 'shape=box, style=\"rounded,filled\"')\n",
        "\n",
        "# Visualize the decision tree\n",
        "graph = graphviz.Source(dot_data)\n",
        "graph.render(\"advertisement_decision_tree_salary\")\n",
        "\n",
        "# Display the decision tree\n",
        "graph\n"
      ],
      "metadata": {
        "id": "9RoyBpI62fv3"
      },
      "execution_count": null,
      "outputs": []
    },
    {
      "cell_type": "code",
      "source": [
        "import shap\n",
        "\n",
        "# Choose an instance from the test set\n",
        "instance_index = 0  # Choose any index from the test set\n",
        "instance = X_test.iloc[[instance_index]]\n",
        "\n",
        "# Use the trained model to predict sales for the chosen instance\n",
        "predicted_sales = regressor.predict(instance)\n",
        "\n",
        "# Use SHAP to explain the prediction\n",
        "explainer = shap.Explainer(regressor, X_train)\n",
        "shap_values = explainer.shap_values(instance)\n",
        "\n",
        "# Visualize the SHAP values\n",
        "shap.initjs()\n",
        "shap.force_plot(explainer.expected_value, shap_values, instance)\n"
      ],
      "metadata": {
        "id": "87Me4GHh3EzN"
      },
      "execution_count": null,
      "outputs": []
    },
    {
      "cell_type": "code",
      "source": [
        "import numpy as np\n",
        "\n",
        "# Convert input_data to numpy array\n",
        "instance_index =  5 # Choose any index from the test set\n",
        "instance = X_test.iloc[[instance_index]]\n",
        "\n",
        "# Use the trained model to predict the sales price\n",
        "predicted_sales_price = regressor.predict(input_data)\n",
        "\n",
        "# Use SHAP to explain the prediction\n",
        "explainer = shap.Explainer(regressor, X_train)\n",
        "shap_values = explainer.shap_values(input_data)\n",
        "\n",
        "# Visualize the SHAP values\n",
        "shap.initjs()\n",
        "shap.force_plot(explainer.expected_value, shap_values[0], input_data)\n"
      ],
      "metadata": {
        "id": "iiCaAprx3kQn"
      },
      "execution_count": null,
      "outputs": []
    },
    {
      "cell_type": "code",
      "source": [
        "# Importing necessary libraries\n",
        "import pandas as pd\n",
        "from sklearn.model_selection import train_test_split\n",
        "from sklearn.ensemble import RandomForestRegressor\n",
        "# Load the dataset\n",
        "data = pd.read_csv('Advertising.csv')\n",
        "\n",
        "# Assuming the dataset contains columns: 'TV', 'Radio', 'Newspaper', and 'Sales'\n",
        "X = data[['TV', 'Radio', 'Newspaper']]  # Features\n",
        "y = data['Sales']  # Target variable\n",
        "\n",
        "# Split the dataset into training and testing sets\n",
        "X_train, X_test, y_train, y_test = train_test_split(X, y, test_size=0.2, random_state=42)\n",
        "\n",
        "# Initialize the decision tree regressor\n",
        "regressor_1 = RandomForestRegressor()\n",
        "\n",
        "# Train the model\n",
        "regressor_1.fit(X_train, y_train)\n",
        "\n",
        "\n"
      ],
      "metadata": {
        "id": "K51mOBHV6oC3"
      },
      "execution_count": null,
      "outputs": []
    },
    {
      "cell_type": "code",
      "source": [
        "regressor.feature_importances_"
      ],
      "metadata": {
        "id": "Jdo5Av2G64Ja"
      },
      "execution_count": null,
      "outputs": []
    },
    {
      "cell_type": "code",
      "source": [
        "instance_index = 0  # Choose any index from the test set\n",
        "instance = X_test.iloc[[instance_index]]\n",
        "\n",
        "print(instance)"
      ],
      "metadata": {
        "id": "uhEc60Dn7Pa9"
      },
      "execution_count": null,
      "outputs": []
    },
    {
      "cell_type": "code",
      "source": [
        "import numpy as np\n",
        "\n",
        "# Convert input_data to numpy array\n",
        "instance_index =  0 # Choose any index from the test set\n",
        "instance = X_test.iloc[[instance_index]]\n",
        "\n",
        "# Use the trained model to predict the sales price\n",
        "predicted_sales_price = regressor_1.predict(instance)\n",
        "\n",
        "# Use SHAP to explain the prediction\n",
        "explainer = shap.Explainer(regressor_1, X_train)\n",
        "shap_values = explainer.shap_values(instance)\n",
        "\n",
        "# Visualize the SHAP values\n",
        "shap.initjs()\n",
        "shap.force_plot(explainer.expected_value, shap_values[0], instance)\n"
      ],
      "metadata": {
        "id": "8bMgLVqM6-6i"
      },
      "execution_count": null,
      "outputs": []
    },
    {
      "cell_type": "markdown",
      "source": [],
      "metadata": {
        "id": "pQLK2SyL7iB1"
      }
    }
  ]
}