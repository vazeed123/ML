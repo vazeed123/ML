{
  "nbformat": 4,
  "nbformat_minor": 0,
  "metadata": {
    "colab": {
      "private_outputs": true,
      "provenance": []
    },
    "kernelspec": {
      "name": "python3",
      "display_name": "Python 3"
    },
    "language_info": {
      "name": "python"
    }
  },
  "cells": [
    {
      "cell_type": "code",
      "source": [
        "!pip install feature_engine"
      ],
      "metadata": {
        "id": "6g_yrXQNnQLr"
      },
      "execution_count": null,
      "outputs": []
    },
    {
      "cell_type": "code",
      "source": [
        "# Step 1: Import necessary libraries\n",
        "import pandas as pd\n",
        "import numpy as np\n",
        "import matplotlib.pyplot as plt\n",
        "from sklearn.model_selection import train_test_split\n",
        "from sklearn.linear_model import LinearRegression\n",
        "from sklearn.pipeline import Pipeline\n",
        "from sklearn.metrics import mean_squared_error\n",
        "from feature_engine.encoding import OrdinalEncoder\n",
        "\n",
        "# Step 2: Load the data\n",
        "df = pd.read_csv('Housing_1.csv')\n"
      ],
      "metadata": {
        "id": "kKmBkLz6mpxQ"
      },
      "execution_count": null,
      "outputs": []
    },
    {
      "cell_type": "code",
      "source": [
        "df.shape"
      ],
      "metadata": {
        "id": "dJwzy5Hn_GQK"
      },
      "execution_count": null,
      "outputs": []
    },
    {
      "cell_type": "code",
      "source": [
        "!pip install sdv -q"
      ],
      "metadata": {
        "id": "60QPLh-l_lpO"
      },
      "execution_count": null,
      "outputs": []
    },
    {
      "cell_type": "code",
      "source": [
        "data = {\n",
        "    'price': 'numerical',\n",
        "    'area': 'numerical',\n",
        "    'bedrooms': 'numerical',\n",
        "    'bathrooms': 'numerical',\n",
        "    'stories': 'numerical',\n",
        "    'mainroad': 'categorical',\n",
        "    'guestroom': 'categorical',\n",
        "    'basement': 'categorical',\n",
        "    'hotwaterheating': 'categorical',\n",
        "    'airconditioning': 'categorical',\n",
        "    'parking': 'numerical',\n",
        "    'prefarea': 'categorical',\n",
        "    'furnishingstatus': 'categorical'\n",
        "}"
      ],
      "metadata": {
        "id": "EmqYi4QJAH4T"
      },
      "execution_count": null,
      "outputs": []
    },
    {
      "cell_type": "code",
      "source": [
        "df.info()"
      ],
      "metadata": {
        "id": "kAxhWtwq6tl0"
      },
      "execution_count": null,
      "outputs": []
    },
    {
      "cell_type": "code",
      "source": [],
      "metadata": {
        "id": "daDICHe4-Cpf"
      },
      "execution_count": null,
      "outputs": []
    },
    {
      "cell_type": "code",
      "source": [
        "\n",
        "# Step 3: Preprocessing\n",
        "# Define categorical and numerical columns\n",
        "categorical_cols = ['mainroad', 'guestroom', 'basement', 'hotwaterheating', 'airconditioning', 'prefarea', 'furnishingstatus']\n",
        "numerical_cols = ['area', 'bedrooms', 'bathrooms', 'stories', 'parking']\n",
        "\n",
        "# Create preprocessor\n",
        "preprocessor = Pipeline(steps=[\n",
        "    ('ordinal_encoder', OrdinalEncoder(encoding_method='arbitrary', variables=categorical_cols))\n",
        "])\n",
        "\n",
        "# Step 4: Split the data\n",
        "X = df.drop('price', axis=1)\n",
        "y = df['price']\n",
        "X_train, X_test, y_train, y_test = train_test_split(X, y, test_size=0.1, random_state=42)\n",
        "\n",
        "# Step 5: Define and train the model\n",
        "model = Pipeline(steps=[('preprocessor', preprocessor),\n",
        "                        ('regressor', LinearRegression())])\n",
        "\n",
        "model.fit(X_train, y_train)\n",
        "\n",
        "# Step 6: Evaluate the model\n",
        "y_train_pred = model.predict(X_train)\n",
        "y_test_pred = model.predict(X_test)\n",
        "\n",
        "# Calculate RMSE\n",
        "rmse_train = np.sqrt(mean_squared_error(y_train, y_train_pred))\n",
        "rmse_test = np.sqrt(mean_squared_error(y_test, y_test_pred))\n",
        "\n",
        "print(\"Linear Regression RMSE (Train):\", rmse_train)\n",
        "print(\"Linear Regression RMSE (Test):\", rmse_test)\n",
        "\n",
        "# Step 7: Determine if the model is overfitting or underfitting\n",
        "if rmse_train < rmse_test:\n",
        "    print(\"The model may be overfitting.\")\n",
        "    color = 'red'\n",
        "elif rmse_train > rmse_test:\n",
        "    print(\"The model may be underfitting.\")\n",
        "    color = 'blue'\n",
        "else:\n",
        "    print(\"The model seems to have a good fit.\")\n",
        "    color = 'green'\n",
        "\n",
        "# Step 8: Plot the predicted vs true values for training and testing sets\n",
        "plt.figure(figsize=(12, 6))\n",
        "\n",
        "# Plot for training set\n",
        "plt.subplot(1, 2, 1)\n",
        "plt.scatter(y_train, y_train_pred, color=color)\n",
        "plt.plot([min(y_train), max(y_train)], [min(y_train), max(y_train)], color='black', linestyle='--')\n",
        "plt.title('Training Set: True vs Predicted')\n",
        "plt.xlabel('True Values')\n",
        "plt.ylabel('Predicted Values')\n",
        "\n",
        "# Plot for testing set\n",
        "plt.subplot(1, 2, 2)\n",
        "plt.scatter(y_test, y_test_pred, color=color)\n",
        "plt.plot([min(y_test), max(y_test)], [min(y_test), max(y_test)], color='blue', linestyle='--')\n",
        "plt.title('Testing Set: True vs Predicted')\n",
        "plt.xlabel('True Values')\n",
        "plt.ylabel('Predicted Values')\n",
        "\n",
        "plt.tight_layout()\n",
        "plt.show()"
      ],
      "metadata": {
        "id": "utZ3zv8k6tY7"
      },
      "execution_count": null,
      "outputs": []
    },
    {
      "cell_type": "code",
      "source": [
        "# Step 1: Import necessary libraries\n",
        "import numpy as np\n",
        "import matplotlib.pyplot as plt\n",
        "from sklearn.model_selection import train_test_split\n",
        "from sklearn.linear_model import LinearRegression\n",
        "from sklearn.metrics import mean_squared_error\n",
        "\n",
        "# Step 2: Generate synthetic data for demonstration\n",
        "# Let's create 100 samples with 20 features each\n",
        "num_samples = 100000\n",
        "num_features = 55\n",
        "\n",
        "# Generate random values for the features\n",
        "X = np.random.rand(num_samples, num_features)\n",
        "\n",
        "# Generate random values for the target variable\n",
        "y = np.random.rand(num_samples)\n",
        "\n",
        "# Step 3: Split the data into training and testing sets\n",
        "X_train, X_test, y_train, y_test = train_test_split(X, y, test_size=0.1, random_state=42)\n",
        "\n",
        "# Step 4: Train a simple linear regression model\n",
        "lr = LinearRegression()\n",
        "lr.fit(X_train, y_train)\n",
        "\n",
        "# Step 5: Evaluate the model's performance\n",
        "def calculate_rmse(model, X, y):\n",
        "    y_pred = model.predict(X)\n",
        "    rmse = np.sqrt(mean_squared_error(y, y_pred))\n",
        "    return rmse\n",
        "\n",
        "# Calculate RMSE for both training and testing sets\n",
        "rmse_train = calculate_rmse(lr, X_train, y_train)\n",
        "rmse_test = calculate_rmse(lr, X_test, y_test)\n",
        "\n",
        "print(\"Linear Regression RMSE (Train):\", rmse_train)\n",
        "print(\"Linear Regression RMSE (Test):\", rmse_test)\n",
        "\n",
        "\n",
        "\n",
        "# # Step 7: Plot the data and the regression line\n",
        "# plt.figure(figsize=(10, 6))\n",
        "# plt.scatter(range(len(y_train)), y_train, color='blue', label='Training data')\n",
        "# plt.scatter(range(len(y_test)), y_test, color='red', label='Testing data')\n",
        "# plt.plot(range(len(y_train)), lr.predict(X_train), color='green', linewidth=2, label='Regression line')\n",
        "# plt.title('Linear Regression - Underfitting Example')\n",
        "# plt.xlabel('Sample Index')\n",
        "# plt.ylabel('Target Variable')\n",
        "# plt.legend()\n",
        "# plt.show()\n",
        "\n",
        "\n",
        "# # Step 6: Check for underfitting condition\n",
        "# if rmse_train <= rmse_test:\n",
        "#     print(\"The model may be underfitting.\")\n"
      ],
      "metadata": {
        "id": "IAY-5ZThnpD6"
      },
      "execution_count": null,
      "outputs": []
    },
    {
      "cell_type": "code",
      "source": [
        "# Step 1: Import necessary libraries\n",
        "import numpy as np\n",
        "import matplotlib.pyplot as plt\n",
        "from sklearn.model_selection import train_test_split\n",
        "from sklearn.linear_model import LinearRegression\n",
        "from sklearn.metrics import mean_squared_error\n",
        "\n",
        "# Step 2: Generate synthetic data for demonstration\n",
        "# Let's create 100 samples with 1 feature\n",
        "X = np.random.rand(100, 1) * 10  # Feature values between 0 and 10\n",
        "y = 2 * X[:, 0] + np.random.randn(100)  # Linear relationship with some noise\n",
        "\n",
        "# Step 3: Split the data into training and testing sets\n",
        "X_train, X_test, y_train, y_test = train_test_split(X, y, test_size=0.1, random_state=42)\n",
        "\n",
        "# Step 4: Train a linear regression model\n",
        "lr = LinearRegression()\n",
        "lr.fit(X_train, y_train)\n",
        "\n",
        "# Step 5: Evaluate the model's performance\n",
        "def calculate_rmse(model, X, y):\n",
        "    y_pred = model.predict(X)\n",
        "    rmse = np.sqrt(mean_squared_error(y, y_pred))\n",
        "    return rmse\n",
        "\n",
        "# Calculate RMSE for both training and testing sets\n",
        "rmse_train = calculate_rmse(lr, X_train, y_train)\n",
        "rmse_test = calculate_rmse(lr, X_test, y_test)\n",
        "\n",
        "print(\"Linear Regression RMSE (Train):\", rmse_train)\n",
        "print(\"Linear Regression RMSE (Test):\", rmse_test)\n",
        "\n",
        "# Step 6: Check if the model fits properly\n",
        "if rmse_train < rmse_test:\n",
        "    print(\"The model fits properly.\")\n",
        "else:\n",
        "    print(\"The model may not fit properly.\")\n",
        "\n",
        "# Step 7: Plot the data and the regression line\n",
        "plt.figure(figsize=(10, 6))\n",
        "plt.scatter(X_train, y_train, color='blue', label='Training data')\n",
        "plt.scatter(X_test, y_test, color='red', label='Testing data')\n",
        "plt.plot(X_train, lr.predict(X_train), color='green', linewidth=2, label='Regression line')\n",
        "plt.title('Linear Regression - Proper Fit Example')\n",
        "plt.xlabel('Feature (X)')\n",
        "plt.ylabel('Target Variable (y)')\n",
        "plt.legend()\n",
        "plt.show()\n"
      ],
      "metadata": {
        "id": "7bPZA7u3oSwY"
      },
      "execution_count": null,
      "outputs": []
    }
  ]
}