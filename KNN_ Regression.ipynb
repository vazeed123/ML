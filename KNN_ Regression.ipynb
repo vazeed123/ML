{
  "nbformat": 4,
  "nbformat_minor": 0,
  "metadata": {
    "colab": {
      "private_outputs": true,
      "provenance": []
    },
    "kernelspec": {
      "name": "python3",
      "display_name": "Python 3"
    },
    "language_info": {
      "name": "python"
    }
  },
  "cells": [
    {
      "cell_type": "code",
      "source": [
        "import numpy as np\n",
        "import matplotlib.pyplot as plt\n",
        "%timeit\n",
        "\n",
        "class KNNRegressor:\n",
        "    def __init__(self, k=3):\n",
        "        self.k = k\n",
        "\n",
        "    def fit(self, X_train, y_train):\n",
        "        self.X_train = X_train\n",
        "        self.y_train = y_train\n",
        "\n",
        "    def euclidean_distance(self, x1, x2):\n",
        "        return np.sqrt(np.sum((x1 - x2) ** 2))\n",
        "\n",
        "    def predict(self, X_test):\n",
        "        predictions = [self._predict(x) for x in X_test]\n",
        "        return np.array([pred[0] for pred in predictions]), [pred[1] for pred in predictions]\n",
        "\n",
        "    def _predict(self, x):\n",
        "        distances = [self.euclidean_distance(x, x_train) for x_train in self.X_train]\n",
        "        k_indices = np.argsort(distances)[:self.k]\n",
        "        k_nearest_labels = [self.y_train[i] for i in k_indices]\n",
        "        return np.mean(k_nearest_labels), k_indices\n",
        "\n",
        "def visualize_regression(X_train, y_train, X_test, y_test, y_pred, nearest_neighbor_indices):\n",
        "    plt.figure(figsize=(10, 6))\n",
        "    plt.scatter(X_train, y_train, color='blue', label='Training Data')\n",
        "    plt.scatter(X_test, y_test, color='red', label='Test Data')\n",
        "    plt.plot(X_test, y_pred, color='green', label='KNN Regression Line')\n",
        "    plt.scatter(X_train[nearest_neighbor_indices], y_train[nearest_neighbor_indices], color='orange', label='Nearest Neighbors')\n",
        "    plt.title('KNN Regression')\n",
        "    plt.xlabel('X')\n",
        "    plt.ylabel('y')\n",
        "    plt.legend()\n",
        "    plt.show()\n",
        "\n",
        "# Generating synthetic data\n",
        "np.random.seed(0)\n",
        "X = np.sort(5 * np.random.rand(20, 1), axis=0)\n",
        "y = np.sin(X).ravel() + np.random.normal(0, 0.1, size=X.shape[0])\n",
        "\n",
        "# Shuffle data\n",
        "shuffle_idx = np.random.permutation(len(X))\n",
        "X = X[shuffle_idx]\n",
        "y = y[shuffle_idx]\n",
        "\n",
        "# Split data into train and test sets\n",
        "X_train, X_test = X[:16], X[16:]\n",
        "y_train, y_test = y[:16], y[16:]\n",
        "\n",
        "# Fit KNN regression model\n",
        "knn_regressor = KNNRegressor(k=2)\n",
        "knn_regressor.fit(X_train, y_train)\n",
        "\n",
        "# Predict on test set and get nearest neighbors indices\n",
        "y_pred, nearest_neighbor_indices = knn_regressor.predict(X_test)\n",
        "\n",
        "\n",
        "\n",
        "# Visualize\n",
        "visualize_regression(X_train, y_train, X_test, y_test, y_pred, nearest_neighbor_indices)\n"
      ],
      "metadata": {
        "id": "lX-KZTyBKy3G"
      },
      "execution_count": null,
      "outputs": []
    },
    {
      "cell_type": "code",
      "source": [
        "X_test"
      ],
      "metadata": {
        "id": "b0X4SRbFiAK8"
      },
      "execution_count": null,
      "outputs": []
    },
    {
      "cell_type": "code",
      "source": [
        "y_pred"
      ],
      "metadata": {
        "id": "QyfcgSnEiHus"
      },
      "execution_count": null,
      "outputs": []
    },
    {
      "cell_type": "code",
      "source": [
        "nearest_neighbor_indices"
      ],
      "metadata": {
        "id": "YyQx513-iC95"
      },
      "execution_count": null,
      "outputs": []
    },
    {
      "cell_type": "code",
      "source": [
        "import numpy as np\n",
        "\n",
        "class Node:\n",
        "    def __init__(self, point, axis, left=None, right=None):\n",
        "        self.point = point\n",
        "        self.axis = axis\n",
        "        self.left = left\n",
        "        self.right = right\n",
        "\n",
        "def build_kdtree(points, depth=0):\n",
        "    if not points:\n",
        "        return None\n",
        "\n",
        "    k = len(points[0])\n",
        "    axis = depth % k\n",
        "\n",
        "    points.sort(key=lambda x: x[axis])\n",
        "\n",
        "    median = len(points) // 2\n",
        "    node = Node(points[median], axis)\n",
        "\n",
        "    node.left = build_kdtree(points[:median], depth + 1)\n",
        "    node.right = build_kdtree(points[median + 1:], depth + 1)\n",
        "\n",
        "    return node\n",
        "\n",
        "def distance(point1, point2):\n",
        "    return np.sqrt(np.sum((np.array(point1) - np.array(point2)) ** 2))\n",
        "\n",
        "def nearest_neighbor_search(node, target, depth=0, best=None):\n",
        "    if node is None:\n",
        "        return best\n",
        "\n",
        "    k = len(target)\n",
        "    axis = depth % k\n",
        "\n",
        "    next_best = None\n",
        "    next_branch = None\n",
        "\n",
        "    if best is None or distance(target, best) > distance(target, node.point):\n",
        "        next_best = node.point\n",
        "    else:\n",
        "        next_best = best\n",
        "\n",
        "    if target[axis] < node.point[axis]:\n",
        "        next_branch = node.left\n",
        "    else:\n",
        "        next_branch = node.right\n",
        "\n",
        "    return nearest_neighbor_search(next_branch, target, depth + 1, next_best)\n",
        "\n",
        "# Example usage:\n",
        "points = [(2,3), (5,4), (9,6), (4,7), (8,1), (7,2)]\n",
        "tree = build_kdtree(points)\n",
        "target = (10,5)\n",
        "nearest = nearest_neighbor_search(tree, target)\n",
        "print(\"Nearest neighbor to\", target, \"is\", nearest)\n"
      ],
      "metadata": {
        "id": "Fqg-xGhdLyTF"
      },
      "execution_count": null,
      "outputs": []
    },
    {
      "cell_type": "code",
      "source": [
        "from sklearn.neighbors import KDTree\n",
        "import numpy as np\n",
        "import matplotlib.pyplot as plt\n",
        "\n",
        "# Generate some random data\n",
        "np.random.seed(0)\n",
        "X_train = np.random.rand(10, 2)  # 10 samples, 2 features\n",
        "\n",
        "# Build the KDTree\n",
        "kdt = KDTree(X_train, leaf_size=30, metric='euclidean')\n",
        "\n",
        "# Query point\n",
        "query_point = np.array([[0.5, 0.5]])\n",
        "\n",
        "# Find the k-nearest neighbors\n",
        "k = 4\n",
        "distances, indices = kdt.query(query_point, k)\n",
        "\n",
        "# Plotting\n",
        "plt.figure(figsize=(8, 6))\n",
        "\n",
        "# Plot training data points\n",
        "plt.scatter(X_train[:, 0], X_train[:, 1], color='blue', label='Training Data')\n",
        "\n",
        "# Plot query point\n",
        "plt.scatter(query_point[0][0], query_point[0][1], color='red', label='Query Point')\n",
        "\n",
        "# Plot k-nearest neighbors\n",
        "nearest_neighbors = X_train[indices[0]]  # Extract the indices from the array\n",
        "plt.scatter(nearest_neighbors[:, 0], nearest_neighbors[:, 1], color='green', label='Nearest Neighbors')\n",
        "\n",
        "# Connect the query point to its nearest neighbors\n",
        "for neighbor in nearest_neighbors:\n",
        "    plt.plot([query_point[0][0], neighbor[0]], [query_point[0][1], neighbor[1]], color='gray', linestyle='--')\n",
        "\n",
        "plt.xlabel('Feature 1')\n",
        "plt.ylabel('Feature 2')\n",
        "plt.title('Visualization of KDTree KNN')\n",
        "plt.legend()\n",
        "plt.grid(True)\n",
        "plt.show()\n"
      ],
      "metadata": {
        "id": "SC7uX_8ANfx3"
      },
      "execution_count": null,
      "outputs": []
    }
  ]
}