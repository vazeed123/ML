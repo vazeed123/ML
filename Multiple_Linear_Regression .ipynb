{
  "nbformat": 4,
  "nbformat_minor": 0,
  "metadata": {
    "colab": {
      "private_outputs": true,
      "provenance": []
    },
    "kernelspec": {
      "name": "python3",
      "display_name": "Python 3"
    },
    "language_info": {
      "name": "python"
    }
  },
  "cells": [
    {
      "cell_type": "markdown",
      "source": [
        "***Problem statement ***: Predict sales using the input parameter giving the advertisment in Newspaper , TV  , Radio.\n",
        "\n",
        "From this we have three input features and output features\n",
        "\n",
        "First we will perfom simple linear regresion and look the observations\n",
        "\n"
      ],
      "metadata": {
        "id": "xU2YKGvywGtu"
      }
    },
    {
      "cell_type": "code",
      "execution_count": null,
      "metadata": {
        "id": "ok2UUkRUv7Be"
      },
      "outputs": [],
      "source": [
        "# Lets import all required libraries to achive the goal\n",
        "import pandas as pd\n",
        "import numpy as np\n",
        "import matplotlib.pyplot as plt"
      ]
    },
    {
      "cell_type": "code",
      "source": [
        "# import the data\n",
        "data = pd.read_csv('Advertising.csv')"
      ],
      "metadata": {
        "id": "v-pvibuZxIZ7"
      },
      "execution_count": null,
      "outputs": []
    },
    {
      "cell_type": "code",
      "source": [
        "data.head()"
      ],
      "metadata": {
        "id": "CCOTfy3KepGm"
      },
      "execution_count": null,
      "outputs": []
    },
    {
      "cell_type": "code",
      "source": [
        "data.drop(['Unnamed: 0'],axis=1, inplace=True) # drop the unwanted column"
      ],
      "metadata": {
        "id": "GD8tqCjAxlji"
      },
      "execution_count": null,
      "outputs": []
    },
    {
      "cell_type": "code",
      "source": [
        "data.head()"
      ],
      "metadata": {
        "id": "TQiU10xBx1_g"
      },
      "execution_count": null,
      "outputs": []
    },
    {
      "cell_type": "code",
      "source": [
        "\n",
        "import pandas as pd\n",
        "import scipy.stats as stats\n",
        "\n",
        "# Load the data\n",
        "data = pd.read_csv('/content/Advertising.csv')\n",
        "\n",
        "# Test the hypothesis that there is no correlation between TV and Sales\n",
        "corr, pval = stats.pearsonr(data['TV'], data['Sales'])\n",
        "if pval < 0.05:\n",
        "    print('Reject the null hypothesis: There is a significant correlation between TV and Sales.')\n",
        "else:\n",
        "    print('Fail to reject the null hypothesis: There is no significant correlation between TV and Sales.')\n",
        "\n",
        "# Test the hypothesis that there is no correlation between"
      ],
      "metadata": {
        "id": "YxeTfv1ymOsi"
      },
      "execution_count": null,
      "outputs": []
    },
    {
      "cell_type": "code",
      "source": [
        "# Perform the basic data analysis\n",
        "\n",
        "data.info();\n",
        "\n",
        "# we dont have any missing values"
      ],
      "metadata": {
        "id": "TEu2xydjx4oC"
      },
      "execution_count": null,
      "outputs": []
    },
    {
      "cell_type": "code",
      "source": [
        "import seaborn as sns\n",
        "sns.pairplot(data)"
      ],
      "metadata": {
        "id": "sLtvz3tCfXgI"
      },
      "execution_count": null,
      "outputs": []
    },
    {
      "cell_type": "code",
      "source": [
        "# Any outliers :\n",
        "import seaborn as sns\n",
        "sns.boxplot(data)"
      ],
      "metadata": {
        "id": "YhHCt4jzyGQq"
      },
      "execution_count": null,
      "outputs": []
    },
    {
      "cell_type": "code",
      "source": [
        "!pip install feature-engine -q"
      ],
      "metadata": {
        "id": "Bxok3LbUyUfU"
      },
      "execution_count": null,
      "outputs": []
    },
    {
      "cell_type": "code",
      "source": [
        "from feature_engine.outliers import Winsorizer\n",
        "remove = Winsorizer(capping_method='quantiles',tail='both',variables=['TV','Radio','Newspaper'])"
      ],
      "metadata": {
        "id": "9vGfcoCtyY4N"
      },
      "execution_count": null,
      "outputs": []
    },
    {
      "cell_type": "code",
      "source": [
        "clenead_data =  remove.fit_transform(data)"
      ],
      "metadata": {
        "id": "8gRer-k1yeNc"
      },
      "execution_count": null,
      "outputs": []
    },
    {
      "cell_type": "code",
      "source": [
        "sns.boxplot(clenead_data);"
      ],
      "metadata": {
        "id": "8JopaxEVypGm"
      },
      "execution_count": null,
      "outputs": []
    },
    {
      "cell_type": "markdown",
      "source": [
        "We have identified the outlier and removed the same\n",
        "\n"
      ],
      "metadata": {
        "id": "cP5YsF4bzFTD"
      }
    },
    {
      "cell_type": "code",
      "source": [
        "clenead_data.describe()"
      ],
      "metadata": {
        "id": "vPTIeFKKzEqp"
      },
      "execution_count": null,
      "outputs": []
    },
    {
      "cell_type": "markdown",
      "source": [
        "Lets try to understand the relationship between input variable verses the output varaible\n"
      ],
      "metadata": {
        "id": "mDkza4MZzWuA"
      }
    },
    {
      "cell_type": "code",
      "source": [
        "sns.heatmap(clenead_data.corr())"
      ],
      "metadata": {
        "id": "9BsD6XNUzVpJ"
      },
      "execution_count": null,
      "outputs": []
    },
    {
      "cell_type": "markdown",
      "source": [
        "Priliminary assumption that sales will increase if we do more spending on TV Ads"
      ],
      "metadata": {
        "id": "3O8qF5NLztJF"
      }
    },
    {
      "cell_type": "code",
      "source": [
        "# Try to analyze the data in detail\n",
        "\n",
        "fig, axs = plt.subplots(1,3,sharey=True)\n",
        "data.plot(kind='scatter',x='TV',y='Sales',ax =axs[0], figsize=(10,5))\n",
        "\n",
        "data.plot(kind='scatter',x='Radio',y='Sales',ax =axs[1])\n",
        "\n",
        "data.plot(kind='scatter',x='Newspaper',y='Sales',ax =axs[2]);"
      ],
      "metadata": {
        "id": "YHfzyYc2z0HH"
      },
      "execution_count": null,
      "outputs": []
    },
    {
      "cell_type": "markdown",
      "source": [
        "**data visualization** : Promotion TV will increase the sale then Radio, there no clear understanding of wheather newspaper will contribute to sales or not\n"
      ],
      "metadata": {
        "id": "W8Mse9uR0cJL"
      }
    },
    {
      "cell_type": "markdown",
      "source": [
        "**Simple Linear Regresion:** We will one input varible TV and also estimate sales\n",
        "\n",
        "Lets create input and output feature\n",
        "\n"
      ],
      "metadata": {
        "id": "vp2O0wCI1U8P"
      }
    },
    {
      "cell_type": "code",
      "source": [
        "feature_cols = ['TV','Radio','Newspaper']\n",
        "x = clenead_data[feature_cols]\n",
        "y=  clenead_data.Sales"
      ],
      "metadata": {
        "id": "2JYNMHtF0veD"
      },
      "execution_count": null,
      "outputs": []
    },
    {
      "cell_type": "code",
      "source": [
        "from sklearn.linear_model import LinearRegression"
      ],
      "metadata": {
        "id": "EiU7ngZ71xU-"
      },
      "execution_count": null,
      "outputs": []
    },
    {
      "cell_type": "code",
      "source": [
        "lr = LinearRegression()"
      ],
      "metadata": {
        "id": "whTjp3wY10h0"
      },
      "execution_count": null,
      "outputs": []
    },
    {
      "cell_type": "code",
      "source": [
        "lr.fit(x,y)"
      ],
      "metadata": {
        "id": "2yFP5R1x168B"
      },
      "execution_count": null,
      "outputs": []
    },
    {
      "cell_type": "code",
      "source": [
        "lr.coef_"
      ],
      "metadata": {
        "id": "2W3pIpof1_Up"
      },
      "execution_count": null,
      "outputs": []
    },
    {
      "cell_type": "code",
      "source": [
        "lr.intercept_"
      ],
      "metadata": {
        "id": "7uEPUabC2Ejt"
      },
      "execution_count": null,
      "outputs": []
    },
    {
      "cell_type": "markdown",
      "source": [
        "**How to intrepretate this model**\n",
        "\n",
        "  A \"unit\" increase in TV ad spending is assoicated 0.04801645 \"unit\" increase in sales\n",
        "\n",
        "  An Addition $1000 spent on TV ads is  associted increase of sales og 48.0164\n",
        "\n"
      ],
      "metadata": {
        "id": "LRZdnDZe2LXT"
      }
    },
    {
      "cell_type": "code",
      "source": [
        "x_new = pd.DataFrame({'TV':[clenead_data.TV.min(),clenead_data.TV.max()]})"
      ],
      "metadata": {
        "id": "tZcWAxGD2Hub"
      },
      "execution_count": null,
      "outputs": []
    },
    {
      "cell_type": "code",
      "source": [
        "x_new"
      ],
      "metadata": {
        "id": "JBuO10eXE0Bl"
      },
      "execution_count": null,
      "outputs": []
    },
    {
      "cell_type": "code",
      "source": [
        "preds =lr.predict(x_new)"
      ],
      "metadata": {
        "id": "NBiR_TPL3Xi_"
      },
      "execution_count": null,
      "outputs": []
    },
    {
      "cell_type": "code",
      "source": [
        "data.plot(kind='scatter',x='TV',y='Sales')\n",
        "plt.plot(x_new,preds,c='red',linewidth=2)\n"
      ],
      "metadata": {
        "id": "C8RAjZuQ3dJP"
      },
      "execution_count": null,
      "outputs": []
    },
    {
      "cell_type": "markdown",
      "source": [
        "**conclusion** : There is an conclusion that spending More money on TV advertisement will improve the sale ."
      ],
      "metadata": {
        "id": "qZtp8NZu3oM0"
      }
    },
    {
      "cell_type": "markdown",
      "source": [
        "**Statistics**:\n",
        "\n",
        "Ho: We need to support Hypothesis such as sales will increase when you spend money on TV ads\n",
        "\n",
        "Ha: There is no significance of improvement sales depends on TV ad promotions\n",
        "\n",
        "Solution: P-values , significance level - 0.05\n",
        "\n",
        "When P-value of TV is less than 0.05 , we can say Reject the Ha.\n",
        "\n",
        "\n",
        "\n"
      ],
      "metadata": {
        "id": "emahGag737u8"
      }
    },
    {
      "cell_type": "code",
      "source": [
        "clenead_data.head()"
      ],
      "metadata": {
        "id": "tceam3L85H01"
      },
      "execution_count": null,
      "outputs": []
    },
    {
      "cell_type": "code",
      "source": [
        "import statsmodels.formula.api as smf\n",
        "lm = smf.ols(formula = 'Sales ~ TV ', data =clenead_data).fit()\n",
        "print(lm.summary())"
      ],
      "metadata": {
        "id": "ksfR-H5b6Zdl"
      },
      "execution_count": null,
      "outputs": []
    },
    {
      "cell_type": "code",
      "source": [
        "import statsmodels.formula.api as smf\n",
        "lm = smf.ols(formula = 'Sales ~ Newspaper + TV ', data =clenead_data).fit()\n",
        "print(lm.summary())"
      ],
      "metadata": {
        "id": "fluJSs325n7V"
      },
      "execution_count": null,
      "outputs": []
    },
    {
      "cell_type": "code",
      "source": [
        "import statsmodels.formula.api as smf\n",
        "lm = smf.ols(formula = 'Sales ~ Newspaper + TV + Radio', data =clenead_data).fit()\n",
        "print(lm.summary())"
      ],
      "metadata": {
        "id": "pidYD_GeiIEc"
      },
      "execution_count": null,
      "outputs": []
    },
    {
      "cell_type": "markdown",
      "source": [
        "**Conclusion** : The sales contribution is soley dependent on TV and Radio , when we taken all three input parameters , when you taken single varibale its saying all are sigficant."
      ],
      "metadata": {
        "id": "Aq5D5k1E6453"
      }
    },
    {
      "cell_type": "code",
      "source": [
        "!pip install shap"
      ],
      "metadata": {
        "id": "sq83biEhHFYf"
      },
      "execution_count": null,
      "outputs": []
    },
    {
      "cell_type": "code",
      "source": [
        "\n",
        "import shap\n",
        "from sklearn.linear_model import LinearRegression\n",
        "\n",
        "# Assuming you have already fitted your linear regression model\n",
        "lr = LinearRegression()\n",
        "lr.fit(x, y)  # Assuming X is your feature matrix and y is your target vector\n",
        "\n",
        "# Create a SHAP explainer object\n",
        "explainer = shap.Explainer(lr, x)\n",
        "\n",
        "#Calculate SHAP values#\n",
        "shap_values = explainer.shap_values(x)\n",
        "\n",
        "# Visualize SHAP values\n",
        "shap.summary_plot(shap_values, features=x)"
      ],
      "metadata": {
        "id": "sBZ5_3VC64mk"
      },
      "execution_count": null,
      "outputs": []
    },
    {
      "cell_type": "code",
      "source": [
        "import shap\n",
        "import numpy as np\n",
        "import pandas as pd\n",
        "from sklearn.linear_model import LinearRegression\n",
        "\n",
        "# Assuming you have your feature matrix X and target vector y\n",
        "# Fit your model\n",
        "lr = LinearRegression()\n",
        "lr.fit(x, y)\n",
        "\n",
        "# Create a SHAP explainer object\n",
        "explainer = shap.Explainer(lr, x)\n",
        "\n",
        "# Calculate SHAP values\n",
        "shap_values = explainer.shap_values(x)\n",
        "\n",
        "# Compute feature importance\n",
        "feature_importance = np.abs(shap_values).mean(axis=0)  # Taking the mean absolute SHAP values for each feature\n",
        "feature_names = x.columns  # Assuming X is a pandas DataFrame with column names\n",
        "\n",
        "# Create a DataFrame to store feature importance\n",
        "feature_importance_df = pd.DataFrame(feature_importance, index=feature_names, columns=[\"SHAP Importance\"])\n",
        "\n",
        "# Sort the DataFrame by feature importance in descending order\n",
        "feature_importance_df = feature_importance_df.sort_values(by=\"SHAP Importance\", ascending=False)\n",
        "\n",
        "# Print or visualize feature importance\n",
        "print(feature_importance_df)\n"
      ],
      "metadata": {
        "id": "yKL72gOMIZ6Q"
      },
      "execution_count": null,
      "outputs": []
    },
    {
      "cell_type": "code",
      "source": [
        "import matplotlib.pyplot as plt\n",
        "\n",
        "# Assuming you have already computed and stored the feature importance in feature_importance_df\n",
        "\n",
        "# Plotting feature importance\n",
        "plt.figure(figsize=(10, 6))\n",
        "plt.bar(feature_importance_df.index, feature_importance_df[\"SHAP Importance\"], color='skyblue')\n",
        "plt.xlabel('SHAP Importance')\n",
        "plt.ylabel('Feature')\n",
        "plt.title('Feature Importance')\n",
        "# plt.gca().yaxis()  # Invert y-axis to have the most important feature at the top\n",
        "plt.show()\n"
      ],
      "metadata": {
        "id": "X5Q0lecvI0TH"
      },
      "execution_count": null,
      "outputs": []
    }
  ]
}